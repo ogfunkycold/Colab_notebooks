{
  "nbformat": 4,
  "nbformat_minor": 0,
  "metadata": {
    "colab": {
      "name": "Public-SafariOnline-Day1-Part2.ipynb",
      "provenance": [],
      "collapsed_sections": [
        "_kubx9jlEvOK",
        "o3LoKqH5FvBP",
        "bJJH_ybw-CkM",
        "KWDrBDOdN_77",
        "IdqC6jq5e4jd"
      ]
    },
    "kernelspec": {
      "display_name": "Python 3",
      "language": "python",
      "name": "python3"
    }
  },
  "cells": [
    {
      "cell_type": "markdown",
      "metadata": {
        "id": "4J2lIggJLUMS",
        "colab_type": "text"
      },
      "source": [
        "# **Essential Machine Learning and Exploratory Data Analysis with Python and Jupyter Notebook**\n",
        "\n",
        "## Pragmatic AI Labs\n",
        "![alt text](https://paiml.com/images/logo_with_slogan_white_background.png)\n",
        "\n",
        "This notebook was produced by [Pragmatic AI Labs](https://paiml.com/).  You can continue learning about these topics by:\n",
        "\n",
        "*   Buying a copy of [Pragmatic AI: An Introduction to Cloud-Based Machine Learning](http://www.informit.com/store/pragmatic-ai-an-introduction-to-cloud-based-machine-9780134863917)\n",
        "*   Reading an online copy of [Pragmatic AI:Pragmatic AI: An Introduction to Cloud-Based Machine Learning](https://www.safaribooksonline.com/library/view/pragmatic-ai-an/9780134863924/)\n",
        "*  Watching video [Essential Machine Learning and AI with Python and Jupyter Notebook-Video-SafariOnline](https://www.safaribooksonline.com/videos/essential-machine-learning/9780135261118) on Safari Books Online.\n",
        "* Purchasing video [Essential Machine Learning and AI with Python and Jupyter Notebook- Purchase Video](http://www.informit.com/store/essential-machine-learning-and-ai-with-python-and-jupyter-9780135261095)\n",
        "*   Viewing more content at [noahgift.com](https://noahgift.com/)\n",
        "### Additional Related Topics from Noah Gift\n",
        "\n",
        "His most recent books are:\n",
        "\n",
        "*   [Pragmatic A.I.:   An introduction to Cloud-Based Machine Learning (Pearson, 2018)](https://www.amazon.com/Pragmatic-AI-Introduction-Cloud-Based-Analytics/dp/0134863860)\n",
        "*   [Python for DevOps (O'Reilly, 2020)](https://www.amazon.com/Python-DevOps-Ruthlessly-Effective-Automation/dp/149205769X). \n",
        "\n",
        "His most recent video courses are:\n",
        "\n",
        "*   [Essential Machine Learning and A.I. with Python and Jupyter Notebook LiveLessons (Pearson, 2018)](https://learning.oreilly.com/videos/essential-machine-learning/9780135261118)\n",
        "*   [AWS Certified Machine Learning-Specialty (ML-S) (Pearson, 2019)](https://learning.oreilly.com/videos/aws-certified-machine/9780135556597)\n",
        "*   [Python for Data Science Complete Video Course Video Training (Pearson, 2019)](https://learning.oreilly.com/videos/python-for-data/9780135687253)\n",
        "*   [AWS Certified Big Data - Specialty Complete Video Course and Practice Test Video Training (Pearson, 2019)](https://learning.oreilly.com/videos/aws-certified-big/9780135772324)\n",
        "*   [Building A.I. Applications on Google Cloud Platform (Pearson, 2019)](https://learning.oreilly.com/videos/building-ai-applications/9780135973462)\n",
        "*   [Pragmatic AI and Machine Learning Core Principles (Pearson, 2019)](https://learning.oreilly.com/videos/pragmatic-ai-and/9780136554714)\n",
        "*   [Data Engineering with Python and AWS Lambda (Pearson, 2019)](https://learning.oreilly.com/videos/data-engineering-with/9780135964330)\n",
        "\n",
        "His most recent online courses are:\n",
        "\n",
        "*   [Microservices with this Udacity DevOps Nanodegree (Udacity, 2019)](https://www.udacity.com/course/cloud-dev-ops-nanodegree--nd9991)\n",
        "*   [Command Line Automation in Python (DataCamp, 2019)](https://www.datacamp.com/instructors/ndgift)\n"
      ]
    },
    {
      "cell_type": "markdown",
      "metadata": {
        "id": "o_M3Vd7KL1x5",
        "colab_type": "text"
      },
      "source": [
        "## Part 1.3: Understanding Libraries, Classes, Control Structures,  and Regular Expressions (45 minutes)"
      ]
    },
    {
      "cell_type": "markdown",
      "metadata": {
        "id": "5zTvkFF5C-FT",
        "colab_type": "text"
      },
      "source": [
        "### Writing And Using Libraries In Python\n",
        "\n",
        "* *[Read related material covered in Chapter 7 of Pragmatic AI](https://www.safaribooksonline.com/library/view/pragmatic-ai-an/9780134863924/ch07.xhtml#ch07lev2)*\n",
        "\n",
        "* *[Watch Video Lesson 4:  Writing, Using and Deploying Libraries in Python](https://www.safaribooksonline.com/videos/essential-machine-learning/9780135261118/9780135261118-EMLA_01_04_00)*\n"
      ]
    },
    {
      "cell_type": "markdown",
      "metadata": {
        "id": "XusDa6zzGAEp",
        "colab_type": "text"
      },
      "source": [
        "#### Creating A Full Python Project\n",
        "\n",
        "* A more complete example can be found by walking through this Github project: https://github.com/noahgift/myrepo\n",
        "\n",
        "* An [article for CircleCI also talks more about this](https://circleci.com/blog/increase-reliability-in-data-science-and-machine-learning-projects-with-circleci/)\n",
        "\n",
        "* [Five Minute YouTube video](https://www.youtube.com/watch?v=xYX7n5bZw-w&t=62s) on building a repo from scratch\n",
        "\n"
      ]
    },
    {
      "cell_type": "code",
      "metadata": {
        "id": "kROp-yB4GANl",
        "colab_type": "code",
        "colab": {}
      },
      "source": [
        ""
      ],
      "execution_count": 0,
      "outputs": []
    },
    {
      "cell_type": "markdown",
      "metadata": {
        "id": "_kubx9jlEvOK",
        "colab_type": "text"
      },
      "source": [
        "#### Writing a library in Python\n",
        "It doesn't take long into a project before writing a library in python becomes important.  These are the basics\n",
        "In this repository there is a folder called ```funclib``` and inside is a ```__init__.py``` file.  To create a library, a module is needed in this directory with a function in it.\n",
        "\n",
        "Create a file:\n",
        "\n",
        "```\n",
        "touch funclib/funcmod.py\n",
        "\n",
        "```\n",
        "\n",
        "Inside this file, a function is created:\n",
        "\n",
        "\n",
        "```python\n",
        "\"\"\"This is a simple module\"\"\"\n",
        "\n",
        "def list_of_belts_in_bjj():\n",
        "    \"\"\"Returns a list of the belts in Brazilian Jiu Jitsu\"\"\"\n",
        "\n",
        "    belts = [\"white\", \"blue\", \"purple\", \"brown\", \"black\"]\n",
        "    return belts\n",
        "```\n"
      ]
    },
    {
      "cell_type": "code",
      "metadata": {
        "id": "3hn85IdfFa9r",
        "colab_type": "code",
        "colab": {}
      },
      "source": [
        ""
      ],
      "execution_count": 0,
      "outputs": []
    },
    {
      "cell_type": "markdown",
      "metadata": {
        "id": "tabQrkIXEyVg",
        "colab_type": "text"
      },
      "source": [
        "#### Using and Importing the library\n",
        "With Jupyter, if a library is directory above, sys.path.append can be added so it will be imported.\n",
        "Next, the module is imported using the namespace of the folder/filename/function name that was created earlier.\n",
        "\n",
        "```python\n",
        "import sys;sys.path.append(\"..\")\n",
        "from funclib import funcmod\n",
        "\n",
        "funcmod.list_of_belts_in_bjj()\n",
        "\n",
        "['white', 'blue', 'purple', 'brown', 'black']\n",
        "```\n"
      ]
    },
    {
      "cell_type": "code",
      "metadata": {
        "id": "60_2HtlPFDB-",
        "colab_type": "code",
        "colab": {}
      },
      "source": [
        ""
      ],
      "execution_count": 0,
      "outputs": []
    },
    {
      "cell_type": "markdown",
      "metadata": {
        "id": "mUiflyHRFdbR",
        "colab_type": "text"
      },
      "source": [
        "#### Installing other libraries using pip install\n",
        "\n",
        "Installing other libraries can be done with the ```pip install``` command\n",
        "\n",
        "To install the pandas package:\n",
        "\n",
        "```pip install pandas```\n",
        "\n",
        "Alternatively packages can be installed using a requirements.txt file\n",
        "\n",
        "```\n",
        "> cat requirements.txt \n",
        "pylint\n",
        "pytest\n",
        "pytest-cov\n",
        "click\n",
        "jupyter\n",
        "nbval\n",
        "\n",
        "> pip install -r requirements.txt\n",
        "\n",
        "```\n"
      ]
    },
    {
      "cell_type": "code",
      "metadata": {
        "id": "YbHAlH7-PG_p",
        "colab_type": "code",
        "outputId": "b531f0bc-e92f-4c03-f2c0-5e1e22e43d43",
        "colab": {
          "base_uri": "https://localhost:8080/",
          "height": 34
        }
      },
      "source": [
        "%%writefile requirements.txt\n",
        "pylint\n",
        "pytest"
      ],
      "execution_count": 0,
      "outputs": [
        {
          "output_type": "stream",
          "text": [
            "Writing requirements.txt\n"
          ],
          "name": "stdout"
        }
      ]
    },
    {
      "cell_type": "code",
      "metadata": {
        "id": "Mq9W5_cdPNLd",
        "colab_type": "code",
        "colab": {}
      },
      "source": [
        "!pip install -r requirements.txt"
      ],
      "execution_count": 0,
      "outputs": []
    },
    {
      "cell_type": "markdown",
      "metadata": {
        "id": "eDwPrpbYunMU",
        "colab_type": "text"
      },
      "source": [
        "##### This is a great way to quiet colab installs"
      ]
    },
    {
      "cell_type": "code",
      "metadata": {
        "id": "jhEcA6_gFtrA",
        "colab_type": "code",
        "colab": {}
      },
      "source": [
        "!pip install -q pandas\n",
        "!pip install -q numpy"
      ],
      "execution_count": 0,
      "outputs": []
    },
    {
      "cell_type": "markdown",
      "metadata": {
        "id": "o3LoKqH5FvBP",
        "colab_type": "text"
      },
      "source": [
        "##### To Use A 3rd Party Library in Python\n",
        "Import it in the library we created earlier\n",
        "\n",
        "```python\n",
        "\"\"\"This is a simple module\"\"\"\n",
        "\n",
        "import pandas as pd\n",
        "\n",
        "def list_of_belts_in_bjj():\n",
        "    \"\"\"Returns a list of the belts in Brazilian Jiu Jitsu\"\"\"\n",
        "\n",
        "    belts = [\"white\", \"blue\", \"purple\", \"brown\", \"black\"]\n",
        "    return belts\n",
        "\n",
        "def count_belts():\n",
        "    \"\"\"Uses Pandas to count number of belts\"\"\"\n",
        "\n",
        "    belts = list_of_belts_in_bjj()\n",
        "    df = pd.DataFrame(belts)\n",
        "    res = df.count()\n",
        "    count = res.values.tolist()[0]\n",
        "    return count \n",
        "```"
      ]
    },
    {
      "cell_type": "code",
      "metadata": {
        "id": "jA6vWH6AFvmv",
        "colab_type": "code",
        "colab": {}
      },
      "source": [
        "import pandas as pd\n",
        "\n",
        "def list_of_belts_in_bjj():\n",
        "    \"\"\"Returns a list of the belts in Brazilian Jiu Jitsu\"\"\"\n",
        "\n",
        "    belts = [\"white\", \"blue\", \"purple\", \"brown\", \"black\"]\n",
        "    return belts\n",
        "\n",
        "def count_belts():\n",
        "    \"\"\"Uses Pandas to count number of belts\"\"\"\n",
        "\n",
        "    belts = list_of_belts_in_bjj()\n",
        "    df = pd.DataFrame(belts)\n",
        "    return df"
      ],
      "execution_count": 0,
      "outputs": []
    },
    {
      "cell_type": "code",
      "metadata": {
        "id": "krz_s5ZSfDnA",
        "colab_type": "code",
        "outputId": "d06fcd26-dcb0-4277-d154-631732066fc1",
        "colab": {
          "base_uri": "https://localhost:8080/",
          "height": 79
        }
      },
      "source": [
        "df = count_belts()\n",
        "df.tail(1)\n",
        "\n"
      ],
      "execution_count": 0,
      "outputs": [
        {
          "output_type": "execute_result",
          "data": {
            "text/html": [
              "<div>\n",
              "<style scoped>\n",
              "    .dataframe tbody tr th:only-of-type {\n",
              "        vertical-align: middle;\n",
              "    }\n",
              "\n",
              "    .dataframe tbody tr th {\n",
              "        vertical-align: top;\n",
              "    }\n",
              "\n",
              "    .dataframe thead th {\n",
              "        text-align: right;\n",
              "    }\n",
              "</style>\n",
              "<table border=\"1\" class=\"dataframe\">\n",
              "  <thead>\n",
              "    <tr style=\"text-align: right;\">\n",
              "      <th></th>\n",
              "      <th>0</th>\n",
              "    </tr>\n",
              "  </thead>\n",
              "  <tbody>\n",
              "    <tr>\n",
              "      <th>4</th>\n",
              "      <td>black</td>\n",
              "    </tr>\n",
              "  </tbody>\n",
              "</table>\n",
              "</div>"
            ],
            "text/plain": [
              "       0\n",
              "4  black"
            ]
          },
          "metadata": {
            "tags": []
          },
          "execution_count": 3
        }
      ]
    },
    {
      "cell_type": "markdown",
      "metadata": {
        "id": "wQIK5-fWGir3",
        "colab_type": "text"
      },
      "source": [
        "### Understanding Python Classes \n",
        "\n",
        "* *[Watch Video Lesson 5:  Understanding Python Classes](https://www.safaribooksonline.com/videos/essential-machine-learning/9780135261118/9780135261118-EMLA_01_05_00)*"
      ]
    },
    {
      "cell_type": "markdown",
      "metadata": {
        "id": "rMA9KJbaG1T2",
        "colab_type": "text"
      },
      "source": [
        "#### Differences Between Classes and Functions\n",
        "The key differences between Classes and Functions are:\n",
        "\n",
        "* Functions are much easier to reason about\n",
        "* Functions (typically) have state inside the function only, where classes have state persists outside of the function\n",
        "* Classes can offer a more advanced level of abstraction at the cost of complexity"
      ]
    },
    {
      "cell_type": "code",
      "metadata": {
        "id": "CRj3o_0RHAxp",
        "colab_type": "code",
        "colab": {}
      },
      "source": [
        ""
      ],
      "execution_count": 0,
      "outputs": []
    },
    {
      "cell_type": "markdown",
      "metadata": {
        "id": "9DsnmUoyHGzx",
        "colab_type": "text"
      },
      "source": [
        "#### Creating an empty Class\n",
        "Using classes and interacting with them can be done iteratively in Jupyter Notebook.\n",
        "The simplest type of class is just a name as shown below:\n",
        "```\n",
        "class Competitor: pass\n",
        "```\n",
        "But, that class can be instantiated into multiple objects"
      ]
    },
    {
      "cell_type": "code",
      "metadata": {
        "id": "sNXweYZZHOhS",
        "colab_type": "code",
        "colab": {}
      },
      "source": [
        "class Competitor: pass"
      ],
      "execution_count": 0,
      "outputs": []
    },
    {
      "cell_type": "markdown",
      "metadata": {
        "id": "7bNTtyGvHh7E",
        "colab_type": "text"
      },
      "source": [
        "#### Setting Attributes on an Object"
      ]
    },
    {
      "cell_type": "code",
      "metadata": {
        "id": "u6WPt43tHkji",
        "colab_type": "code",
        "outputId": "d5d8fc1c-a913-4531-fbae-9a60216d14e1",
        "colab": {
          "base_uri": "https://localhost:8080/",
          "height": 34
        }
      },
      "source": [
        "conor = Competitor()\n",
        "conor.name = \"Conor McGregor\"\n",
        "conor.age = 29\n",
        "conor.weight = 155\n",
        "\n",
        "conor.__dict__\n"
      ],
      "execution_count": 0,
      "outputs": [
        {
          "output_type": "execute_result",
          "data": {
            "text/plain": [
              "{'age': 29, 'name': 'Conor McGregor', 'weight': 155}"
            ]
          },
          "metadata": {
            "tags": []
          },
          "execution_count": 5
        }
      ]
    },
    {
      "cell_type": "code",
      "metadata": {
        "id": "AKMUUCnAHmM1",
        "colab_type": "code",
        "outputId": "1dcafb81-f671-4889-dfb1-a6fcacb87767",
        "colab": {
          "base_uri": "https://localhost:8080/",
          "height": 34
        }
      },
      "source": [
        "nate = Competitor()\n",
        "nate.name = \"Nate Diaz\"\n",
        "nate.age = 30\n",
        "nate.weight = 170\n",
        "nate.__dict__"
      ],
      "execution_count": 0,
      "outputs": [
        {
          "output_type": "execute_result",
          "data": {
            "text/plain": [
              "{'age': 30, 'name': 'Nate Diaz', 'weight': 170}"
            ]
          },
          "metadata": {
            "tags": []
          },
          "execution_count": 7
        }
      ]
    },
    {
      "cell_type": "markdown",
      "metadata": {
        "id": "jzJzVnWDHo2A",
        "colab_type": "text"
      },
      "source": [
        "#### Interacting with Objects"
      ]
    },
    {
      "cell_type": "code",
      "metadata": {
        "id": "kB2B-OQ7IGZD",
        "colab_type": "code",
        "colab": {}
      },
      "source": [
        "def print_competitor_age(object):\n",
        "    \"\"\"Print out age statistics about a competitor\"\"\"\n",
        "    \n",
        "    print(f\"{object.name} is {object.age} years old\")"
      ],
      "execution_count": 0,
      "outputs": []
    },
    {
      "cell_type": "code",
      "metadata": {
        "id": "oQKDLcVGIGoh",
        "colab_type": "code",
        "outputId": "b85e3649-8c60-4a62-a9f7-207faa95a475",
        "colab": {
          "base_uri": "https://localhost:8080/",
          "height": 34
        }
      },
      "source": [
        "print_competitor_age(nate)"
      ],
      "execution_count": 0,
      "outputs": [
        {
          "output_type": "stream",
          "text": [
            "Nate Diaz is 30 years old\n"
          ],
          "name": "stdout"
        }
      ]
    },
    {
      "cell_type": "code",
      "metadata": {
        "id": "Ka-LFYJ1IG0e",
        "colab_type": "code",
        "outputId": "45cdb25b-2ee3-40bd-b4f4-46cbacafcdf8",
        "colab": {
          "base_uri": "https://localhost:8080/",
          "height": 34
        }
      },
      "source": [
        "print_competitor_age(conor)"
      ],
      "execution_count": 0,
      "outputs": [
        {
          "output_type": "stream",
          "text": [
            "Conor McGregor is 29 years old\n"
          ],
          "name": "stdout"
        }
      ]
    },
    {
      "cell_type": "markdown",
      "metadata": {
        "id": "yplytoRKI8pA",
        "colab_type": "text"
      },
      "source": [
        "#### Understanding Inheritance\n",
        "Classes can also inhert from other classes including methods.\n",
        "Often inheritance can be complex and a rule of thumb is to use discretion.\n",
        "\n",
        "In the example below, a UFC class was created that has a method (similar to a function), that can determine what weight class an athlete belongs to.  Then the Competitor class uses \"inheritance\", to inhert the code in the class."
      ]
    },
    {
      "cell_type": "code",
      "metadata": {
        "id": "at28_-C7JC6m",
        "colab_type": "code",
        "colab": {}
      },
      "source": [
        ""
      ],
      "execution_count": 0,
      "outputs": []
    },
    {
      "cell_type": "markdown",
      "metadata": {
        "id": "jJ2j1P-XJDVi",
        "colab_type": "text"
      },
      "source": [
        "##### Using Inheritance"
      ]
    },
    {
      "cell_type": "code",
      "metadata": {
        "id": "hIzHGW2SJI0-",
        "colab_type": "code",
        "colab": {}
      },
      "source": [
        "class UFC:\n",
        "    def weight_class(self, weight):\n",
        "        \"\"\"Weight Class Finder\"\"\"\n",
        "        \n",
        "        classes = {155: \"Lightweight\", \n",
        "                    170: \"Welterweight\"}\n",
        "        return classes[weight]\n",
        "\n",
        "        "
      ],
      "execution_count": 0,
      "outputs": []
    },
    {
      "cell_type": "code",
      "metadata": {
        "id": "YTuU3nhaJLZR",
        "colab_type": "code",
        "colab": {}
      },
      "source": [
        "class Competitor(UFC): pass"
      ],
      "execution_count": 0,
      "outputs": []
    },
    {
      "cell_type": "code",
      "metadata": {
        "id": "MBqX0yAVJN_D",
        "colab_type": "code",
        "colab": {}
      },
      "source": [
        "conor = Competitor()\n",
        "conor.name = \"Conor McGregor\"\n",
        "conor.age = 29\n",
        "conor.weight = 155\n"
      ],
      "execution_count": 0,
      "outputs": []
    },
    {
      "cell_type": "code",
      "metadata": {
        "id": "ELf_GcPRJPWF",
        "colab_type": "code",
        "colab": {}
      },
      "source": [
        "nate = Competitor()\n",
        "nate.name = \"Nate Diaz\"\n",
        "nate.age = 30\n",
        "nate.weight = 170\n"
      ],
      "execution_count": 0,
      "outputs": []
    },
    {
      "cell_type": "code",
      "metadata": {
        "id": "3g-obU6iR49h",
        "colab_type": "code",
        "outputId": "de6c6571-4cf5-4967-e4a7-db6d1057ba1f",
        "colab": {
          "base_uri": "https://localhost:8080/",
          "height": 34
        }
      },
      "source": [
        "conor.weight_class(conor.weight)"
      ],
      "execution_count": 0,
      "outputs": [
        {
          "output_type": "execute_result",
          "data": {
            "text/plain": [
              "'Lightweight'"
            ]
          },
          "metadata": {
            "tags": []
          },
          "execution_count": 18
        }
      ]
    },
    {
      "cell_type": "markdown",
      "metadata": {
        "id": "Uqkx_uN3JQxV",
        "colab_type": "text"
      },
      "source": [
        "##### Using inherited methods from Parent Class"
      ]
    },
    {
      "cell_type": "code",
      "metadata": {
        "id": "h4G1XdjkJW1v",
        "colab_type": "code",
        "outputId": "03ed5d4f-dfab-4d4e-89f3-05a54411593f",
        "colab": {
          "base_uri": "https://localhost:8080/",
          "height": 34
        }
      },
      "source": [
        "print(conor.weight_class(conor.weight))"
      ],
      "execution_count": 0,
      "outputs": [
        {
          "output_type": "stream",
          "text": [
            "Lightweight\n"
          ],
          "name": "stdout"
        }
      ]
    },
    {
      "cell_type": "code",
      "metadata": {
        "id": "KFgfFCMhJYYf",
        "colab_type": "code",
        "outputId": "b28c040b-4433-4206-c8cc-e9cc2a2bb64c",
        "colab": {
          "base_uri": "https://localhost:8080/",
          "height": 34
        }
      },
      "source": [
        "print(nate.weight_class(nate.weight))"
      ],
      "execution_count": 0,
      "outputs": [
        {
          "output_type": "stream",
          "text": [
            "Welterweight\n"
          ],
          "name": "stdout"
        }
      ]
    },
    {
      "cell_type": "markdown",
      "metadata": {
        "id": "PEKWYhudJv_x",
        "colab_type": "text"
      },
      "source": [
        "#### Using Multiple Inheritance\n",
        "\n",
        "Multiple Inheritance is inheriting more than one class"
      ]
    },
    {
      "cell_type": "code",
      "metadata": {
        "id": "U34Ti24hJ7Sk",
        "colab_type": "code",
        "colab": {}
      },
      "source": [
        "class MMA:\n",
        "  def org(self, org_name):\n",
        "      orgs = {\"UFC\": \"Ultimate Fighting Championship\",\n",
        "          \"Bellator\":  \"MMA promotion in Santa Monica, California.\"}\n",
        "      return orgs[org_name]"
      ],
      "execution_count": 0,
      "outputs": []
    },
    {
      "cell_type": "code",
      "metadata": {
        "id": "WELqXQNfJ86w",
        "colab_type": "code",
        "colab": {}
      },
      "source": [
        "class CompetitorAll(UFC, MMA):pass "
      ],
      "execution_count": 0,
      "outputs": []
    },
    {
      "cell_type": "code",
      "metadata": {
        "id": "CZHnhEmIJ_Qr",
        "colab_type": "code",
        "outputId": "4d2bdc5c-1669-4343-850e-62e015938dfa",
        "colab": {
          "base_uri": "https://localhost:8080/",
          "height": 34
        }
      },
      "source": [
        "gsp = CompetitorAll()\n",
        "gsp.name = \"GSP\"\n",
        "gsp.age = 27\n",
        "gsp.weight = 170\n",
        "print(f'{gsp.name} is the G.O.A.T in the {gsp.weight_class(gsp.weight)} division of the {gsp.org(\"UFC\")}')"
      ],
      "execution_count": 0,
      "outputs": [
        {
          "output_type": "stream",
          "text": [
            "GSP is the G.O.A.T in the Welterweight division of the Ultimate Fighting Championship\n"
          ],
          "name": "stdout"
        }
      ]
    },
    {
      "cell_type": "markdown",
      "metadata": {
        "id": "srx3voPVKPop",
        "colab_type": "text"
      },
      "source": [
        "#### Interacting with Special Class Methods and Other Class Techniques\n",
        "\n",
        "Class special methods have the signature ```__method__```:\n",
        "\n",
        "Examples include\n",
        "```\n",
        "__len__\n",
        "__call__\n",
        "__equal__\n",
        "\n",
        "```"
      ]
    },
    {
      "cell_type": "code",
      "metadata": {
        "id": "Uzzr1EhLxUnP",
        "colab_type": "code",
        "outputId": "3177a9d8-9529-4d1c-f558-bfc35e9012c6",
        "colab": {
          "base_uri": "https://localhost:8080/",
          "height": 34
        }
      },
      "source": [
        "l = [1,2]\n",
        "len(l)\n",
        "#class Foo:pass\n",
        "#f = Foo()\n",
        "#len(f)"
      ],
      "execution_count": 0,
      "outputs": [
        {
          "output_type": "execute_result",
          "data": {
            "text/plain": [
              "2"
            ]
          },
          "metadata": {
            "tags": []
          },
          "execution_count": 26
        }
      ]
    },
    {
      "cell_type": "code",
      "metadata": {
        "id": "IJ48YIJUKoYz",
        "colab_type": "code",
        "outputId": "a46a32c6-30ac-4267-9b54-e28770128cb7",
        "colab": {
          "base_uri": "https://localhost:8080/",
          "height": 34
        }
      },
      "source": [
        "class JonJones:\n",
        "  \"\"\"Jon Jones class with customized length\"\"\"\n",
        "  \n",
        "  def __len__(self):\n",
        "    return 84\n",
        "\n",
        "jon_jones = JonJones()\n",
        "len(jon_jones)"
      ],
      "execution_count": 0,
      "outputs": [
        {
          "output_type": "execute_result",
          "data": {
            "text/plain": [
              "84"
            ]
          },
          "metadata": {
            "tags": []
          },
          "execution_count": 28
        }
      ]
    },
    {
      "cell_type": "code",
      "metadata": {
        "id": "bqGdWZB3UEos",
        "colab_type": "code",
        "outputId": "3c5f8dd2-4f1d-4f9a-84cb-679440c6e9e2",
        "colab": {
          "base_uri": "https://localhost:8080/",
          "height": 199
        }
      },
      "source": [
        "class foo():pass\n",
        "f = foo()\n",
        "f.red = \"red\"\n",
        "len(f) #this won't work"
      ],
      "execution_count": 0,
      "outputs": [
        {
          "output_type": "error",
          "ename": "TypeError",
          "evalue": "ignored",
          "traceback": [
            "\u001b[0;31m---------------------------------------------------------------------------\u001b[0m",
            "\u001b[0;31mTypeError\u001b[0m                                 Traceback (most recent call last)",
            "\u001b[0;32m<ipython-input-29-f0f0529fb27b>\u001b[0m in \u001b[0;36m<module>\u001b[0;34m()\u001b[0m\n\u001b[1;32m      2\u001b[0m \u001b[0mf\u001b[0m \u001b[0;34m=\u001b[0m \u001b[0mfoo\u001b[0m\u001b[0;34m(\u001b[0m\u001b[0;34m)\u001b[0m\u001b[0;34m\u001b[0m\u001b[0;34m\u001b[0m\u001b[0m\n\u001b[1;32m      3\u001b[0m \u001b[0mf\u001b[0m\u001b[0;34m.\u001b[0m\u001b[0mred\u001b[0m \u001b[0;34m=\u001b[0m \u001b[0;34m\"red\"\u001b[0m\u001b[0;34m\u001b[0m\u001b[0;34m\u001b[0m\u001b[0m\n\u001b[0;32m----> 4\u001b[0;31m \u001b[0mlen\u001b[0m\u001b[0;34m(\u001b[0m\u001b[0mf\u001b[0m\u001b[0;34m)\u001b[0m\u001b[0;34m\u001b[0m\u001b[0;34m\u001b[0m\u001b[0m\n\u001b[0m",
            "\u001b[0;31mTypeError\u001b[0m: object of type 'foo' has no len()"
          ]
        }
      ]
    },
    {
      "cell_type": "markdown",
      "metadata": {
        "id": "tbTyE8mrKvcj",
        "colab_type": "text"
      },
      "source": [
        "@property decorator is a shortcut for creating a read only property"
      ]
    },
    {
      "cell_type": "code",
      "metadata": {
        "id": "QtQiqN9JKq_X",
        "colab_type": "code",
        "outputId": "de748fed-0a94-43d7-d5e4-23cf097b84b2",
        "colab": {
          "base_uri": "https://localhost:8080/",
          "height": 34
        }
      },
      "source": [
        "class JonJones:\n",
        "  \"\"\"Jon Jones class with read only property\"\"\"\n",
        "  \n",
        "  @property\n",
        "  def reach(self):\n",
        "    return 84\n",
        "\n",
        "jon_jones = JonJones()\n",
        "jon_jones.reach\n",
        "#jon_jones.reach = 85 #cannot set\n",
        "jon_jones.length = 85\n",
        "jon_jones.length"
      ],
      "execution_count": 0,
      "outputs": [
        {
          "output_type": "execute_result",
          "data": {
            "text/plain": [
              "85"
            ]
          },
          "metadata": {
            "tags": []
          },
          "execution_count": 35
        }
      ]
    },
    {
      "cell_type": "markdown",
      "metadata": {
        "id": "grcojpMOKyao",
        "colab_type": "text"
      },
      "source": [
        "@staticmethod bolts a function onto a class"
      ]
    },
    {
      "cell_type": "code",
      "metadata": {
        "id": "vctQpjK-K0AE",
        "colab_type": "code",
        "outputId": "8677c3db-5473-4c8f-9e07-4032034482ed",
        "colab": {
          "base_uri": "https://localhost:8080/",
          "height": 34
        }
      },
      "source": [
        "class JonJones:\n",
        "  \"\"\"Jon Jones Class with 'bolt-on' reach method\n",
        "  self isn't needed\n",
        "  \"\"\"\n",
        "  \n",
        "  @staticmethod\n",
        "  def reach():\n",
        "    return 84\n",
        "\n",
        "jon_jones =JonJones()\n",
        "jon_jones.reach()"
      ],
      "execution_count": 0,
      "outputs": [
        {
          "output_type": "execute_result",
          "data": {
            "text/plain": [
              "84"
            ]
          },
          "metadata": {
            "tags": []
          },
          "execution_count": 39
        }
      ]
    },
    {
      "cell_type": "markdown",
      "metadata": {
        "id": "dhabI3o_dWd7",
        "colab_type": "text"
      },
      "source": [
        "#### Immutability concepts with Objects"
      ]
    },
    {
      "cell_type": "markdown",
      "metadata": {
        "id": "faD4aYV2wmKi",
        "colab_type": "text"
      },
      "source": [
        "![Unbreakable concepts in Python](https://user-images.githubusercontent.com/58792/47947414-44e61900-ded9-11e8-9891-d357b65cfcf5.jpg)"
      ]
    },
    {
      "cell_type": "code",
      "metadata": {
        "id": "8S3WDMvVdJaz",
        "colab_type": "code",
        "colab": {}
      },
      "source": [
        "class Foo:\n",
        "  \n",
        "  @property\n",
        "  def unbreakable(self):\n",
        "    return \"David\"\n",
        "\n"
      ],
      "execution_count": 0,
      "outputs": []
    },
    {
      "cell_type": "code",
      "metadata": {
        "id": "xpR4L8XVdd1Q",
        "colab_type": "code",
        "outputId": "35c8e45d-87fb-45b6-ade2-b031b0a1dc13",
        "colab": {
          "base_uri": "https://localhost:8080/",
          "height": 34
        }
      },
      "source": [
        "foo = Foo()\n",
        "foo.unbreakable "
      ],
      "execution_count": 0,
      "outputs": [
        {
          "output_type": "execute_result",
          "data": {
            "text/plain": [
              "'David'"
            ]
          },
          "metadata": {
            "tags": []
          },
          "execution_count": 41
        }
      ]
    },
    {
      "cell_type": "code",
      "metadata": {
        "id": "GZwabNvndsCs",
        "colab_type": "code",
        "colab": {}
      },
      "source": [
        "foo.not_unbreakable = \"Elijah2\""
      ],
      "execution_count": 0,
      "outputs": []
    },
    {
      "cell_type": "markdown",
      "metadata": {
        "id": "VuSZ9Y49egiO",
        "colab_type": "text"
      },
      "source": [
        "@property acts like an read only attribute, but it isn't"
      ]
    },
    {
      "cell_type": "code",
      "metadata": {
        "id": "A4yseU7fecuW",
        "colab_type": "code",
        "outputId": "16803d6e-65a3-4c42-fbee-ce6256283b30",
        "colab": {
          "base_uri": "https://localhost:8080/",
          "height": 34
        }
      },
      "source": [
        "foo.__dict__"
      ],
      "execution_count": 0,
      "outputs": [
        {
          "output_type": "execute_result",
          "data": {
            "text/plain": [
              "{'not_unbreakable': 'Elijah2'}"
            ]
          },
          "metadata": {
            "tags": []
          },
          "execution_count": 46
        }
      ]
    },
    {
      "cell_type": "markdown",
      "metadata": {
        "id": "DmLJWuUtfE2-",
        "colab_type": "text"
      },
      "source": [
        "You can change an attribute on the object, but not the read only property"
      ]
    },
    {
      "cell_type": "code",
      "metadata": {
        "id": "lQzn9BCoeeLu",
        "colab_type": "code",
        "colab": {}
      },
      "source": [
        "foo.not_unbreakable = \"Mr. Glass\""
      ],
      "execution_count": 0,
      "outputs": []
    },
    {
      "cell_type": "code",
      "metadata": {
        "id": "0iS_9Q0AfWtY",
        "colab_type": "code",
        "outputId": "668f92b2-efb0-4970-fc13-a882aca1578e",
        "colab": {
          "base_uri": "https://localhost:8080/",
          "height": 164
        }
      },
      "source": [
        "foo.unbreakable = \"Bruce Willis\""
      ],
      "execution_count": 0,
      "outputs": [
        {
          "output_type": "error",
          "ename": "AttributeError",
          "evalue": "ignored",
          "traceback": [
            "\u001b[0;31m---------------------------------------------------------------------------\u001b[0m",
            "\u001b[0;31mAttributeError\u001b[0m                            Traceback (most recent call last)",
            "\u001b[0;32m<ipython-input-48-4bc1ea5ae699>\u001b[0m in \u001b[0;36m<module>\u001b[0;34m()\u001b[0m\n\u001b[0;32m----> 1\u001b[0;31m \u001b[0mfoo\u001b[0m\u001b[0;34m.\u001b[0m\u001b[0munbreakable\u001b[0m \u001b[0;34m=\u001b[0m \u001b[0;34m\"Bruce Willis\"\u001b[0m\u001b[0;34m\u001b[0m\u001b[0;34m\u001b[0m\u001b[0m\n\u001b[0m",
            "\u001b[0;31mAttributeError\u001b[0m: can't set attribute"
          ]
        }
      ]
    },
    {
      "cell_type": "code",
      "metadata": {
        "id": "vdXsz7m4fauR",
        "colab_type": "code",
        "colab": {}
      },
      "source": [
        ""
      ],
      "execution_count": 0,
      "outputs": []
    },
    {
      "cell_type": "markdown",
      "metadata": {
        "id": "6clKK6eovI89",
        "colab_type": "text"
      },
      "source": [
        "### Control Structures\n",
        "\n",
        "* *[Watch Video Lesson 3:  Using Python Control Structurers](https://www.safaribooksonline.com/videos/essential-machine-learning/9780135261118/9780135261118-EMLA_01_03_00)*\n",
        "\n",
        "\n",
        "**Material in Section**\n",
        "\n",
        "*  For loops\n",
        "*  While loops\n",
        "*  Using if/else/break/continue/pass statements \n",
        "*  Try/Except\n",
        "*  Generator expressions\n",
        "*  List Comprehensions\n",
        "*  Sorting\n",
        "*  Pattern Matching\n",
        "\n",
        "All programs eventually need a way to control the flow of execution.  This section describes techniques."
      ]
    },
    {
      "cell_type": "markdown",
      "metadata": {
        "id": "kkrALu_wvRMQ",
        "colab_type": "text"
      },
      "source": [
        "#### Using Loops\n",
        "\n",
        "The for loop is one of the most fundamental control structures in Python.\n",
        "One common pattern is to use the range function to generate a range of values, then to iterate on them.\n",
        "\n",
        "* *[Watch Video Lesson 3.1:  Create Loops](https://www.safaribooksonline.com/videos/essential-machine-learning/9780135261118/9780135261118-EMLA_01_03_01)*"
      ]
    },
    {
      "cell_type": "markdown",
      "metadata": {
        "id": "w-jc1fbg9p9q",
        "colab_type": "text"
      },
      "source": [
        "##### Using a Simple For Loop\n",
        "\n",
        "built in range() function creates an iterable"
      ]
    },
    {
      "cell_type": "code",
      "metadata": {
        "id": "abHaxRTlth7c",
        "colab_type": "code",
        "outputId": "e15e7d32-79cb-42cb-b9ca-3a6c382d8f24",
        "colab": {
          "base_uri": "https://localhost:8080/",
          "height": 34
        }
      },
      "source": [
        "res = range(1,6)\n",
        "print(list(res))"
      ],
      "execution_count": 0,
      "outputs": [
        {
          "output_type": "stream",
          "text": [
            "[1, 2, 3, 4, 5]\n"
          ],
          "name": "stdout"
        }
      ]
    },
    {
      "cell_type": "code",
      "metadata": {
        "id": "tnUuKBtlvWz5",
        "colab_type": "code",
        "outputId": "817ef300-9466-4ba6-eb96-318aac3438e5",
        "colab": {
          "base_uri": "https://localhost:8080/",
          "height": 120
        }
      },
      "source": [
        "for i in range(1,7):\n",
        "    print(i)"
      ],
      "execution_count": 0,
      "outputs": [
        {
          "output_type": "stream",
          "text": [
            "1\n",
            "2\n",
            "3\n",
            "4\n",
            "5\n",
            "6\n"
          ],
          "name": "stdout"
        }
      ]
    },
    {
      "cell_type": "markdown",
      "metadata": {
        "id": "ANmx4hYRvdXF",
        "colab_type": "text"
      },
      "source": [
        "##### For loop over an iterable (list)\n",
        "\n",
        "Another common pattern is to iterate on a list (or any iterable)"
      ]
    },
    {
      "cell_type": "code",
      "metadata": {
        "id": "K_XrmKB6vYHw",
        "colab_type": "code",
        "outputId": "8a6b0a83-6a34-4617-8b90-623cc6464d6c",
        "colab": {
          "base_uri": "https://localhost:8080/",
          "height": 68
        }
      },
      "source": [
        "martial_arts = [\"Sambo\", \"Muay Thai\", \"BJJ\"]\n",
        "for martial_art in martial_arts:\n",
        "    print(f\"{martial_art} has influenced modern mixed martial arts\")"
      ],
      "execution_count": 0,
      "outputs": [
        {
          "output_type": "stream",
          "text": [
            "Sambo has influenced modern mixed martial arts\n",
            "Muay Thai has influenced modern mixed martial arts\n",
            "BJJ has influenced modern mixed martial arts\n"
          ],
          "name": "stdout"
        }
      ]
    },
    {
      "cell_type": "markdown",
      "metadata": {
        "id": "McQsitwbvrIG",
        "colab_type": "text"
      },
      "source": [
        "##### While Loops\n",
        "\n",
        "A While Loop is often used as a way of looping until a condition is met. A very common use of a while loop is to create an infinite loop. In the example below a while loop is used to filter a function that returns 1 of 2 types of attacks."
      ]
    },
    {
      "cell_type": "code",
      "metadata": {
        "id": "XA-2E-uNvhUK",
        "colab_type": "code",
        "outputId": "341343f0-10e1-4c30-8a8d-96d10fde9807",
        "colab": {
          "base_uri": "https://localhost:8080/",
          "height": 86
        }
      },
      "source": [
        "def attacks():\n",
        "    list_of_attacks = [\"lower_body\", \"lower_body\",\"upper_body\", \"upper_body\"]\n",
        "    print(f\"There are a total of {len(list_of_attacks)} attacks coming!\")\n",
        "    for attack in list_of_attacks:\n",
        "        yield attack\n",
        "attack = attacks()\n",
        "count = 0\n",
        "while next(attack) == \"lower_body\":\n",
        "    count +=1\n",
        "    print(f\"crossing legs to prevent attack #{count}\")\n",
        "else:\n",
        "    count +=1\n",
        "    print(f\"This is not a lower body attack, I will cross my arms for #{count}\")"
      ],
      "execution_count": 0,
      "outputs": [
        {
          "output_type": "stream",
          "text": [
            "There are a total of 4 attacks coming!\n",
            "crossing legs to prevent attack #1\n",
            "crossing legs to prevent attack #2\n",
            "This is not a lower body attack, I will cross my arms for #3\n"
          ],
          "name": "stdout"
        }
      ]
    },
    {
      "cell_type": "markdown",
      "metadata": {
        "id": "88ORBTOPvyKy",
        "colab_type": "text"
      },
      "source": [
        "#### Using if/else/break/continue/pass statements \n",
        "\n",
        "* *[Watch Video Lesson 3.2:  if/else](https://www.safaribooksonline.com/videos/essential-machine-learning/9780135261118/9780135261118-EMLA_01_03_02)*\n"
      ]
    },
    {
      "cell_type": "markdown",
      "metadata": {
        "id": "e4RVlT2_-4Tj",
        "colab_type": "text"
      },
      "source": [
        "##### Using if/elif/else blocks\n",
        "If/Else statements are a common way to branch between decisions. In the example below if/elif are used to match a branch. If there are no matches, the last \"else\" statement is run."
      ]
    },
    {
      "cell_type": "code",
      "metadata": {
        "id": "4rPN8VYgvvsL",
        "colab_type": "code",
        "colab": {}
      },
      "source": [
        "def recommended_attack(position):\n",
        "    \"\"\"Recommends an attack based on the position\"\"\"\n",
        "    \n",
        "    if position == \"full_guard\":\n",
        "        print(f\"Try an armbar attack\")\n",
        "    elif position == \"half_guard\":\n",
        "        print(f\"Try a kimura attack\")\n",
        "    elif position == \"full_mount\":\n",
        "        print(f\"Try an arm triangle\")\n",
        "    else:\n",
        "        print(f\"You're on your own, there is no suggestion for an attack\")"
      ],
      "execution_count": 0,
      "outputs": []
    },
    {
      "cell_type": "code",
      "metadata": {
        "id": "liJPIg7dv4kq",
        "colab_type": "code",
        "outputId": "e3ca6e28-f11d-49fc-f402-1bd0d6942ad8",
        "colab": {
          "base_uri": "https://localhost:8080/",
          "height": 34
        }
      },
      "source": [
        "recommended_attack(\"full_guard\")"
      ],
      "execution_count": 0,
      "outputs": [
        {
          "output_type": "stream",
          "text": [
            "Try an armbar attack\n"
          ],
          "name": "stdout"
        }
      ]
    },
    {
      "cell_type": "code",
      "metadata": {
        "id": "7d6qc-4yv_7F",
        "colab_type": "code",
        "outputId": "bbd0b11b-44fa-4045-d329-21ba84b6d406",
        "colab": {
          "base_uri": "https://localhost:8080/",
          "height": 34
        }
      },
      "source": [
        "recommended_attack(\"z_guard\")"
      ],
      "execution_count": 0,
      "outputs": [
        {
          "output_type": "stream",
          "text": [
            "You're on your own, there is no suggestion for an attack\n"
          ],
          "name": "stdout"
        }
      ]
    },
    {
      "cell_type": "markdown",
      "metadata": {
        "id": "jYEv2fd4_BRO",
        "colab_type": "text"
      },
      "source": [
        "##### Using break"
      ]
    },
    {
      "cell_type": "code",
      "metadata": {
        "id": "n6uxAIVc_B1F",
        "colab_type": "code",
        "outputId": "c941c0d7-0c41-4579-f9a3-974e304af714",
        "colab": {
          "base_uri": "https://localhost:8080/",
          "height": 103
        }
      },
      "source": [
        "submission_attacks = 0\n",
        "while True:\n",
        "  submission_attacks +=1\n",
        "  print(f\"Attempting Submission Attack Number {submission_attacks}\")\n",
        "  if submission_attacks > 3:\n",
        "    print(\"Attacker is tired...stopping attacks after 4th attack\")\n",
        "    break\n",
        "  "
      ],
      "execution_count": 0,
      "outputs": [
        {
          "output_type": "stream",
          "text": [
            "Attempting Submission Attack Number 1\n",
            "Attempting Submission Attack Number 2\n",
            "Attempting Submission Attack Number 3\n",
            "Attempting Submission Attack Number 4\n",
            "Attacker is tired...stopping attacks after 4th attack\n"
          ],
          "name": "stdout"
        }
      ]
    },
    {
      "cell_type": "markdown",
      "metadata": {
        "id": "KB7SreVYAHsH",
        "colab_type": "text"
      },
      "source": [
        "##### Using continue"
      ]
    },
    {
      "cell_type": "code",
      "metadata": {
        "id": "a56Y60MpAH1t",
        "colab_type": "code",
        "outputId": "972894b1-3249-4adb-e278-3d7ef7ff6b36",
        "colab": {
          "base_uri": "https://localhost:8080/",
          "height": 34
        }
      },
      "source": [
        "martial_arts = [\"Sambo\", \"Muay Thai\", \"BJJ\"]\n",
        "for martial_art in martial_arts:\n",
        "  if not martial_art == \"BJJ\":\n",
        "    continue\n",
        "  print(f\"My favorite Martial Art is {martial_art}\")"
      ],
      "execution_count": 0,
      "outputs": [
        {
          "output_type": "stream",
          "text": [
            "My favorite Martial Art is BJJ\n"
          ],
          "name": "stdout"
        }
      ]
    },
    {
      "cell_type": "markdown",
      "metadata": {
        "id": "PgcB-3dUB2I4",
        "colab_type": "text"
      },
      "source": [
        "##### Using pass\n",
        "\n",
        "The pass keyword is often a placeholder to define a class or function"
      ]
    },
    {
      "cell_type": "code",
      "metadata": {
        "id": "SsucVX0JB2Pe",
        "colab_type": "code",
        "colab": {}
      },
      "source": [
        "def my_func(): pass\n",
        "class SomeClass: pass\n",
        "\n",
        "my_func()\n",
        "some_class = SomeClass()\n",
        "\n",
        "#Dark Patterns:  NO!\n",
        "#try:\n",
        "#  print(\"this\")\n",
        "#except:\n",
        "  #import sys;sys.exit(0)\n",
        "  #pass"
      ],
      "execution_count": 0,
      "outputs": []
    },
    {
      "cell_type": "markdown",
      "metadata": {
        "id": "9wWsG9Cdwme0",
        "colab_type": "text"
      },
      "source": [
        "#### Try/Except\n",
        "\n",
        "There is an expression in sports, \"Always be prepared to do your best on your worst day\". Try/Except statements are similar. It is always a good idea to think about what happens when something goes wrong in code that is written. Try/Except blocks allow for this.\n",
        "\n",
        "* *[Watch Video Lesson 3.3:  Understand try/except](https://www.safaribooksonline.com/videos/essential-machine-learning/9780135261118/9780135261118-EMLA_01_03_03)*"
      ]
    },
    {
      "cell_type": "markdown",
      "metadata": {
        "id": "1vlb0DVAHVHC",
        "colab_type": "text"
      },
      "source": [
        "##### Using try/except\n",
        "\n",
        "Catching a specific exception"
      ]
    },
    {
      "cell_type": "code",
      "metadata": {
        "id": "G94tPojywjkt",
        "colab_type": "code",
        "outputId": "cc8059c2-d003-46b6-c807-ad928ac5ef62",
        "colab": {
          "base_uri": "https://localhost:8080/",
          "height": 86
        }
      },
      "source": [
        "tournaments = [\"NAGA\", \"IBJJF\", \"EBI\"]\n",
        "while True:\n",
        "    try:\n",
        "        tournament = tournaments.pop()\n",
        "        print(f\"I would like to compete in the {tournament} tournament.\")\n",
        "    except IndexError:\n",
        "        print(\"There are no more tournaments.  Popping an empty list\")\n",
        "        break"
      ],
      "execution_count": 0,
      "outputs": [
        {
          "output_type": "stream",
          "text": [
            "I would like to compete in the EBI tournament.\n",
            "I would like to compete in the IBJJF tournament.\n",
            "I would like to compete in the NAGA tournament.\n",
            "There are no more tournaments.  Popping an empty list\n"
          ],
          "name": "stdout"
        }
      ]
    },
    {
      "cell_type": "markdown",
      "metadata": {
        "id": "YXDgzYG_H1Ke",
        "colab_type": "text"
      },
      "source": [
        "##### Logging exceptions\n",
        "\n",
        "It is a best practice to log exception blocks"
      ]
    },
    {
      "cell_type": "code",
      "metadata": {
        "id": "-KueP5USH1Ty",
        "colab_type": "code",
        "outputId": "00158674-6e95-4d85-fe23-c901933c6652",
        "colab": {
          "base_uri": "https://localhost:8080/",
          "height": 154
        }
      },
      "source": [
        "import logging\n",
        "\n",
        "tournaments = [\"NAGA\", \"IBJJF\", \"EBI\"]\n",
        "while True:\n",
        "    try:\n",
        "        tournament = tournaments.pop()\n",
        "        print(f\"I would like to compete in the {tournament} tournament.\")\n",
        "    except IndexError:\n",
        "        logging.exception(f\"Exception Logged:  There are no more tournaments\")\n",
        "        break"
      ],
      "execution_count": 0,
      "outputs": [
        {
          "output_type": "stream",
          "text": [
            "ERROR:root:Exception Logged:  There are no more tournaments\n",
            "Traceback (most recent call last):\n",
            "  File \"<ipython-input-64-c377a67d17fe>\", line 6, in <module>\n",
            "    tournament = tournaments.pop()\n",
            "IndexError: pop from empty list\n"
          ],
          "name": "stderr"
        },
        {
          "output_type": "stream",
          "text": [
            "I would like to compete in the EBI tournament.\n",
            "I would like to compete in the IBJJF tournament.\n",
            "I would like to compete in the NAGA tournament.\n"
          ],
          "name": "stdout"
        }
      ]
    },
    {
      "cell_type": "markdown",
      "metadata": {
        "id": "22pQ51hdwE4w",
        "colab_type": "text"
      },
      "source": [
        "####Generator Expression\n",
        "\n",
        "Generator Expressions build further on the concept of yield by allowing for the lazy evaluation of a sequence. The benefit of generator expressions is that nothing is evaluated or brought into memory until it is actually evaluated.\n",
        "\n",
        "This is why the example below can be operating on an infi-nite sequence of random attacks that are generated. In the generator pipeline the lower-case attack, such as \"arm_triangle\" is converted to \"ARM_TRIANGLE\", next the underscore is remove \"ARM TRIANGLE\".\n",
        "\n",
        "* *[Watch Video Lesson 3.4:  Understand generator expressions](https://www.safaribooksonline.com/videos/essential-machine-learning/9780135261118/9780135261118-EMLA_01_03_04)*"
      ]
    },
    {
      "cell_type": "markdown",
      "metadata": {
        "id": "iLd5wY06MHJP",
        "colab_type": "text"
      },
      "source": [
        "##### Creating Generator Expressions"
      ]
    },
    {
      "cell_type": "code",
      "metadata": {
        "id": "5AIcGpUgwBR0",
        "colab_type": "code",
        "colab": {}
      },
      "source": [
        "def lazy_return_random_attacks():\n",
        "    \"\"\"Yield attacks each time\"\"\"\n",
        "    import random\n",
        "    attacks = {\"kimura\": \"upper_body\",\n",
        "           \"straight_ankle_lock\":\"lower_body\", \n",
        "           \"arm_triangle\":\"upper_body\",\n",
        "            \"keylock\": \"upper_body\",\n",
        "            \"knee_bar\": \"lower_body\"}\n",
        "    while True:\n",
        "        random_attack = random.choices(list(attacks.keys()))\n",
        "        yield random_attack\n",
        "        \n",
        "#Make all attacks appear as Upper Case\n",
        "upper_case_attacks = (attack.pop().upper() for attack in lazy_return_random_attacks())"
      ],
      "execution_count": 0,
      "outputs": []
    },
    {
      "cell_type": "code",
      "metadata": {
        "id": "eaWWG7N8wNHd",
        "colab_type": "code",
        "outputId": "99bfb579-7761-486d-a4c6-f413f5193d06",
        "colab": {
          "base_uri": "https://localhost:8080/",
          "height": 34
        }
      },
      "source": [
        "next(upper_case_attacks)"
      ],
      "execution_count": 0,
      "outputs": [
        {
          "output_type": "execute_result",
          "data": {
            "text/plain": [
              "'STRAIGHT_ANKLE_LOCK'"
            ]
          },
          "metadata": {
            "tags": []
          },
          "execution_count": 71
        }
      ]
    },
    {
      "cell_type": "markdown",
      "metadata": {
        "id": "nMYRCiTbMUCn",
        "colab_type": "text"
      },
      "source": [
        "##### Using Generator expressions\n",
        "\n",
        "Generator expressions can be used in a pipeline fashion"
      ]
    },
    {
      "cell_type": "code",
      "metadata": {
        "id": "NPKsH9dPwO89",
        "colab_type": "code",
        "colab": {}
      },
      "source": [
        "## Generator Pipeline:  One expression chains into the next\n",
        "#Make all attacks appear as Upper Case\n",
        "upper_case_attacks = (attack.pop().upper() for attack in lazy_return_random_attacks())\n",
        "#Remove the underscore\n",
        "remove_underscore = (attack.split(\"_\") for attack in upper_case_attacks)\n",
        "#Create a new phrase \n",
        "new_attack_phrase = (\" \".join(phrase) for phrase in remove_underscore)\n",
        "#this is where you can call an AI API\n",
        "#my_api_call = comprehend(new_attack_phrase)"
      ],
      "execution_count": 0,
      "outputs": []
    },
    {
      "cell_type": "code",
      "metadata": {
        "id": "xb4vf2URwRnk",
        "colab_type": "code",
        "outputId": "0678c3b4-d7ca-4e24-eacb-4c25f2ef2580",
        "colab": {
          "base_uri": "https://localhost:8080/",
          "height": 34
        }
      },
      "source": [
        "next(new_attack_phrase)"
      ],
      "execution_count": 0,
      "outputs": [
        {
          "output_type": "execute_result",
          "data": {
            "text/plain": [
              "'KNEE BAR'"
            ]
          },
          "metadata": {
            "tags": []
          },
          "execution_count": 83
        }
      ]
    },
    {
      "cell_type": "code",
      "metadata": {
        "id": "OA9PLTTFwV00",
        "colab_type": "code",
        "outputId": "7d2a9947-06d0-4644-eb2e-fd73ba5227d4",
        "colab": {
          "base_uri": "https://localhost:8080/",
          "height": 188
        }
      },
      "source": [
        "for number in range(10):\n",
        "    print(next(new_attack_phrase))"
      ],
      "execution_count": 0,
      "outputs": [
        {
          "output_type": "stream",
          "text": [
            "ARM TRIANGLE\n",
            "KIMURA\n",
            "STRAIGHT ANKLE LOCK\n",
            "KEYLOCK\n",
            "KIMURA\n",
            "STRAIGHT ANKLE LOCK\n",
            "STRAIGHT ANKLE LOCK\n",
            "STRAIGHT ANKLE LOCK\n",
            "KEYLOCK\n",
            "ARM TRIANGLE\n"
          ],
          "name": "stdout"
        }
      ]
    },
    {
      "cell_type": "markdown",
      "metadata": {
        "id": "bBqchsBXwaiD",
        "colab_type": "text"
      },
      "source": [
        "#### List Comprehension\n",
        "\n",
        "A list comprehension is very similar to a generator expression, but it evaluated in memory. Additionally, it is optimized C code that be a substantial improvement over a traditional for loop.\n",
        "\n",
        "* *[Watch Video Lesson 3.5:  Understand list comprehensions](https://www.safaribooksonline.com/videos/essential-machine-learning/9780135261118/9780135261118-EMLA_01_03_05)*"
      ]
    },
    {
      "cell_type": "markdown",
      "metadata": {
        "id": "e4v2SE7bOa_1",
        "colab_type": "text"
      },
      "source": [
        "##### Creating List Comprehensions"
      ]
    },
    {
      "cell_type": "code",
      "metadata": {
        "id": "X_pm3eyqwXXM",
        "colab_type": "code",
        "colab": {}
      },
      "source": [
        "martial_arts = [\"Sambo\", \"Muay Thai\", \"BJJ\"]\n",
        "new_phrases = [\"\".join(f\"Mixed Martial Arts is influenced by {martial_art}\") for martial_art in martial_arts]"
      ],
      "execution_count": 0,
      "outputs": []
    },
    {
      "cell_type": "markdown",
      "metadata": {
        "id": "aPLuwa3TOzKp",
        "colab_type": "text"
      },
      "source": [
        "#####  Using List Comprehensions\n",
        "\n",
        "Unlike Generator expressions, list comprehensions are run in memory and evaluated immediately"
      ]
    },
    {
      "cell_type": "code",
      "metadata": {
        "id": "lVhLoAQ2wiHP",
        "colab_type": "code",
        "outputId": "0c150056-e6cb-40d5-83b1-e3320766f982",
        "colab": {
          "base_uri": "https://localhost:8080/",
          "height": 54
        }
      },
      "source": [
        "print(new_phrases)"
      ],
      "execution_count": 0,
      "outputs": [
        {
          "output_type": "stream",
          "text": [
            "['Mixed Martial Arts is influenced by Sambo', 'Mixed Martial Arts is influenced by Muay Thai', 'Mixed Martial Arts is influenced by BJJ']\n"
          ],
          "name": "stdout"
        }
      ]
    },
    {
      "cell_type": "markdown",
      "metadata": {
        "id": "quAhiuBw-sq9",
        "colab_type": "text"
      },
      "source": [
        "### Understanding Sorting\n",
        "\n",
        "Python has powerful built-in sorting\n",
        "\n",
        "* *[Watch Video Lesson 3.6:  Understand sorting](https://www.safaribooksonline.com/videos/essential-machine-learning/9780135261118/9780135261118-EMLA_01_03_06)*\n"
      ]
    },
    {
      "cell_type": "markdown",
      "metadata": {
        "id": "GC88vFkPQwLO",
        "colab_type": "text"
      },
      "source": [
        "##### Using built-in sorting\n",
        "\n",
        "sorted is a built-in function"
      ]
    },
    {
      "cell_type": "code",
      "metadata": {
        "id": "-7lMsgk3Qz0m",
        "colab_type": "code",
        "outputId": "36054f34-8c5f-4b44-b93b-1a4147f2f181",
        "colab": {
          "base_uri": "https://localhost:8080/",
          "height": 35
        }
      },
      "source": [
        "martial_arts = [\"Sambo\", \"Muay Thai\", \"BJJ\"]\n",
        "sorted(martial_arts)"
      ],
      "execution_count": 0,
      "outputs": [
        {
          "output_type": "execute_result",
          "data": {
            "text/plain": [
              "['BJJ', 'Muay Thai', 'Sambo']"
            ]
          },
          "metadata": {
            "tags": []
          },
          "execution_count": 2
        }
      ]
    },
    {
      "cell_type": "markdown",
      "metadata": {
        "id": "0bSBsDWrSQfw",
        "colab_type": "text"
      },
      "source": [
        "Performance of sort can be easily benchmarked"
      ]
    },
    {
      "cell_type": "code",
      "metadata": {
        "id": "oe666a6iR35S",
        "colab_type": "code",
        "outputId": "b5d9417c-dcdf-4c5e-988f-972e06727100",
        "colab": {
          "base_uri": "https://localhost:8080/",
          "height": 51
        }
      },
      "source": [
        "%timeit sorted(martial_arts)"
      ],
      "execution_count": 0,
      "outputs": [
        {
          "output_type": "stream",
          "text": [
            "The slowest run took 19.52 times longer than the fastest. This could mean that an intermediate result is being cached.\n",
            "1000000 loops, best of 3: 249 ns per loop\n"
          ],
          "name": "stdout"
        }
      ]
    },
    {
      "cell_type": "markdown",
      "metadata": {
        "id": "i_Skh8l8S6re",
        "colab_type": "text"
      },
      "source": [
        "##### Customizing sorting"
      ]
    },
    {
      "cell_type": "markdown",
      "metadata": {
        "id": "GUsnX31VRxg4",
        "colab_type": "text"
      },
      "source": [
        "Sorting can be reversed"
      ]
    },
    {
      "cell_type": "code",
      "metadata": {
        "id": "VJsyTi9rRxsy",
        "colab_type": "code",
        "outputId": "b69aec6e-a4af-4028-d3d3-6f78a905dda8",
        "colab": {
          "base_uri": "https://localhost:8080/",
          "height": 35
        }
      },
      "source": [
        "sorted(martial_arts, reverse=True)"
      ],
      "execution_count": 0,
      "outputs": [
        {
          "output_type": "execute_result",
          "data": {
            "text/plain": [
              "['Sambo', 'Muay Thai', 'BJJ']"
            ]
          },
          "metadata": {
            "tags": []
          },
          "execution_count": 3
        }
      ]
    },
    {
      "cell_type": "markdown",
      "metadata": {
        "id": "OrWriGn-S_S6",
        "colab_type": "text"
      },
      "source": [
        "Sorting can use custom keys including a custom function.\n",
        "In this case I have \"rigged\" the sort to always unsure BJJ is the first choice and others have a length of characters"
      ]
    },
    {
      "cell_type": "code",
      "metadata": {
        "id": "IRoNvB9RS_fM",
        "colab_type": "code",
        "outputId": "c21786c9-2630-417c-9dd6-5a324a6ef210",
        "colab": {
          "base_uri": "https://localhost:8080/",
          "height": 35
        }
      },
      "source": [
        "martial_arts = [\"Sambo\", \"Muay Thai\", \"BJJ\", \"AX\", \"Tire machèt\"]\n",
        "\n",
        "def best_martial_art(value):\n",
        "  if value == \"BJJ\":\n",
        "    return 1\n",
        "  return len(value) \n",
        "\n",
        "sorted(martial_arts, key=best_martial_art)"
      ],
      "execution_count": 0,
      "outputs": [
        {
          "output_type": "execute_result",
          "data": {
            "text/plain": [
              "['BJJ', 'AX', 'Sambo', 'Muay Thai', 'Tire machèt']"
            ]
          },
          "metadata": {
            "tags": []
          },
          "execution_count": 4
        }
      ]
    },
    {
      "cell_type": "code",
      "metadata": {
        "id": "FJOmSmkOo6pY",
        "colab_type": "code",
        "colab": {}
      },
      "source": [
        "#To Do\n",
        "## Create a custom alphabetical sort with BJJ as top"
      ],
      "execution_count": 0,
      "outputs": []
    },
    {
      "cell_type": "markdown",
      "metadata": {
        "id": "8PvJTX-u-3Hz",
        "colab_type": "text"
      },
      "source": [
        "### Python Regular Expressions\n",
        "\n",
        "It is very common to use regular expressions in Data work.  Explore these techniques in this sub-module.\n",
        "\n",
        "* [Watch Video Lesson 3.7:  Understand Python regular expressions](https://www.safaribooksonline.com/videos/essential-machine-learning/9780135261118/9780135261118-EMLA_01_03_07)\n"
      ]
    },
    {
      "cell_type": "markdown",
      "metadata": {
        "id": "OHDcY-6IW3if",
        "colab_type": "text"
      },
      "source": [
        "##### Using re.search\n",
        "\n",
        "A very basic regular expression pattern"
      ]
    },
    {
      "cell_type": "code",
      "metadata": {
        "id": "IuqKpZUi-7Ie",
        "colab_type": "code",
        "outputId": "b60efc33-1981-41eb-c75f-e798250c36f9",
        "colab": {
          "base_uri": "https://localhost:8080/",
          "height": 35
        }
      },
      "source": [
        "import re\n",
        "phrase = \"I love the closed-guard\"\n",
        "match = re.search(r'\\w+-guard', phrase)\n",
        "if match:\n",
        "  print(match.group())\n",
        "\n"
      ],
      "execution_count": 0,
      "outputs": [
        {
          "output_type": "stream",
          "text": [
            "closed-guard\n"
          ],
          "name": "stdout"
        }
      ]
    },
    {
      "cell_type": "markdown",
      "metadata": {
        "id": "YkeO2UUQW6-2",
        "colab_type": "text"
      },
      "source": [
        "##### Using re.findall\n",
        "\n",
        "to find many results findall is very useful"
      ]
    },
    {
      "cell_type": "code",
      "metadata": {
        "id": "GUHZy4gUW7PG",
        "colab_type": "code",
        "outputId": "2121de40-f926-4ee0-ba12-dbb1ad2671f6",
        "colab": {
          "base_uri": "https://localhost:8080/",
          "height": 35
        }
      },
      "source": [
        "phrase = \"I love the open-guard, closed-guard and deep-half-guard\"\n",
        "guards = re.findall(r'\\w+-guard', phrase)\n",
        "guards\n"
      ],
      "execution_count": 0,
      "outputs": [
        {
          "output_type": "execute_result",
          "data": {
            "text/plain": [
              "['open-guard', 'closed-guard', 'half-guard']"
            ]
          },
          "metadata": {
            "tags": []
          },
          "execution_count": 7
        }
      ]
    },
    {
      "cell_type": "code",
      "metadata": {
        "id": "NKPx4S4GYd8f",
        "colab_type": "code",
        "colab": {}
      },
      "source": [
        ""
      ],
      "execution_count": 0,
      "outputs": []
    },
    {
      "cell_type": "markdown",
      "metadata": {
        "id": "bJJH_ybw-CkM",
        "colab_type": "text"
      },
      "source": [
        "## Homework Day 1"
      ]
    },
    {
      "cell_type": "markdown",
      "metadata": {
        "id": "Fr1NnKv3-JbT",
        "colab_type": "text"
      },
      "source": [
        "### Watch Lesson 5:  Understand Python Classes"
      ]
    },
    {
      "cell_type": "markdown",
      "metadata": {
        "id": "hlMLISAh-4wE",
        "colab_type": "text"
      },
      "source": [
        "Go through lesson and make sure you understand how classes work by extending the inheritance workflow with your own class and method.\n",
        "\n",
        "[Lesson 5: Understand Python Classes](https://www.safaribooksonline.com/videos/essential-machine-learning/9780135261118/9780135261118-EMLA_01_05_00)"
      ]
    },
    {
      "cell_type": "markdown",
      "metadata": {
        "id": "KWDrBDOdN_77",
        "colab_type": "text"
      },
      "source": [
        "### Explore Learning Path:  Essential Machine Learning and Pragmatic AI\n"
      ]
    },
    {
      "cell_type": "markdown",
      "metadata": {
        "id": "CTHlCEd3OHWV",
        "colab_type": "text"
      },
      "source": [
        "Look through topics and explore items that interest you.\n",
        "\n",
        "[Learning Path:  Essential Machine Learning and Pragmatic AI](https://www.safaribooksonline.com/learning-paths/learning-path-essential/9780135747193/)\n",
        "\n",
        "![Learning Path](https://noahgift.com/img/live_lesson_essential_ml.jpg)"
      ]
    },
    {
      "cell_type": "markdown",
      "metadata": {
        "id": "CTIFO2x8Oj7n",
        "colab_type": "text"
      },
      "source": [
        "### Register for Followup Course\n",
        "\n"
      ]
    },
    {
      "cell_type": "markdown",
      "metadata": {
        "id": "UrRZzEPtO6Lr",
        "colab_type": "text"
      },
      "source": [
        "[Managed Machine Learning Systems and Internet of Things](https://learning.oreilly.com/live-training/courses/managed-machine-learning-systems-and-internet-of-things/0636920224778/)"
      ]
    },
    {
      "cell_type": "markdown",
      "metadata": {
        "id": "IdqC6jq5e4jd",
        "colab_type": "text"
      },
      "source": [
        "## FAQ"
      ]
    },
    {
      "cell_type": "markdown",
      "metadata": {
        "id": "AAYE0JnbZ79n",
        "colab_type": "text"
      },
      "source": [
        "How do I find basic functions in python\n",
        "\n",
        "\n",
        "\n",
        "*   go to [python documention](https://docs.python.org/3/search.html?q=built+in+functions&check_keywords=yes&area=default)\n",
        "*   go to [standard library](https://docs.python.org/3/library/)\n",
        "*  here is [link for 3rd party](https://pypi.org/)\n",
        "\n"
      ]
    },
    {
      "cell_type": "markdown",
      "metadata": {
        "id": "JDCJXAQLae7s",
        "colab_type": "text"
      },
      "source": [
        "Given the Competitor class and the attributes set on the class's object at runtime, are those attributes publicly accessible or are getters/setters necessary?"
      ]
    },
    {
      "cell_type": "markdown",
      "metadata": {
        "id": "I27fyW5Eah5d",
        "colab_type": "text"
      },
      "source": [
        "class Foo(): pass\n",
        "\n"
      ]
    },
    {
      "cell_type": "code",
      "metadata": {
        "id": "k-JPG7hKagL8",
        "colab_type": "code",
        "colab": {}
      },
      "source": [
        "class Foo(): pass\n",
        "\n",
        "\n"
      ],
      "execution_count": 0,
      "outputs": []
    },
    {
      "cell_type": "code",
      "metadata": {
        "id": "sFJoLHcWao8Q",
        "colab_type": "code",
        "outputId": "90fa5bb2-f821-4ecd-d681-faaeefdd00d5",
        "colab": {
          "base_uri": "https://localhost:8080/",
          "height": 34
        }
      },
      "source": [
        "f = Foo()\n",
        "f.__val = 1\n",
        "f.__dict__"
      ],
      "execution_count": 0,
      "outputs": [
        {
          "output_type": "execute_result",
          "data": {
            "text/plain": [
              "{'__val': 1}"
            ]
          },
          "metadata": {
            "tags": []
          },
          "execution_count": 86
        }
      ]
    },
    {
      "cell_type": "markdown",
      "metadata": {
        "id": "o2HhtJ5ga1n9",
        "colab_type": "text"
      },
      "source": [
        "Is it compulsory to define self in the arguments for multi class/inheritance ? def length(self): and def length():"
      ]
    },
    {
      "cell_type": "markdown",
      "metadata": {
        "id": "7zN_StSAa2pI",
        "colab_type": "text"
      },
      "source": [
        "self is  convention"
      ]
    },
    {
      "cell_type": "markdown",
      "metadata": {
        "id": "US_Kl6JnbA-H",
        "colab_type": "text"
      },
      "source": [
        "Q:  this sorting - can it be used for air-bnb sort of situation, for example sort on various categories, like comfort, location, price, - 10 different keys . How complex with the sorting be ? "
      ]
    },
    {
      "cell_type": "markdown",
      "metadata": {
        "id": "Baxu2B7FbNqq",
        "colab_type": "text"
      },
      "source": [
        "Q:  How would a more customized sort function work with multiple attributes\n"
      ]
    },
    {
      "cell_type": "markdown",
      "metadata": {
        "id": "dbq6INsFe4xV",
        "colab_type": "text"
      },
      "source": [
        "### Question:  *Do \"pass\" and \"continue\" do the same thing in a loop?*\n"
      ]
    },
    {
      "cell_type": "markdown",
      "metadata": {
        "id": "48dcE5GGfQje",
        "colab_type": "text"
      },
      "source": [
        "**Answer: ** In most cases no.  Continue will skip the iteration of the loop where it is called and not run code below it.  A pass will skip the line of code it is called in but will run the code below it."
      ]
    },
    {
      "cell_type": "code",
      "metadata": {
        "id": "N2igTxsEfcN3",
        "colab_type": "code",
        "colab": {}
      },
      "source": [
        ""
      ],
      "execution_count": 0,
      "outputs": []
    },
    {
      "cell_type": "markdown",
      "metadata": {
        "id": "_nJxgc5bb1qW",
        "colab_type": "text"
      },
      "source": [
        "Q:  Q: is there anything like nvm for Node.js and RVM for Ruby, which enables switching between different Python versions?"
      ]
    },
    {
      "cell_type": "markdown",
      "metadata": {
        "id": "T3j4Yn-3b3aB",
        "colab_type": "text"
      },
      "source": [
        "* one is to use virtualenv\n",
        "* conda\n",
        "* pipenv"
      ]
    },
    {
      "cell_type": "markdown",
      "metadata": {
        "id": "vyG0qFOH4THF",
        "colab_type": "text"
      },
      "source": [
        "### CSV Regular Expression"
      ]
    },
    {
      "cell_type": "code",
      "metadata": {
        "id": "emc5DnDdb2zx",
        "colab_type": "code",
        "colab": {}
      },
      "source": [
        "import pandas as pd\n",
        "\n",
        "df = pd.read_csv(\"https://raw.githubusercontent.com/mwaskom/seaborn-data/master/iris.csv\")\n",
        "\n",
        "#one way to do regex is built in pandas regex\n",
        "\n",
        "\n",
        "#second way is do an apply function\n",
        "#def custom_regex(x):\n",
        "#  if re.findall(r'\\w+-guard', phrase)\n",
        "#    return \"match\"\n",
        "#  return \"nomatch\"\n",
        "\n",
        "#df[\"does_match\"] = df[[\"species\"]].apply(custom_regex)\n",
        "\n"
      ],
      "execution_count": 0,
      "outputs": []
    },
    {
      "cell_type": "markdown",
      "metadata": {
        "id": "la1ynodWyAVS",
        "colab_type": "text"
      },
      "source": [
        "### hidden methods"
      ]
    },
    {
      "cell_type": "code",
      "metadata": {
        "id": "bP-aWbhVyDkM",
        "colab_type": "code",
        "colab": {}
      },
      "source": [
        "class Foo():\n",
        "  def __foo(self):\n",
        "    return 1\n",
        "  def bar(self):\n",
        "    return self.__foo()*5"
      ],
      "execution_count": 0,
      "outputs": []
    },
    {
      "cell_type": "code",
      "metadata": {
        "id": "NcHtXELZyNep",
        "colab_type": "code",
        "outputId": "c862b791-85e2-4ddf-96c7-34aeb112ad5a",
        "colab": {
          "base_uri": "https://localhost:8080/",
          "height": 35
        }
      },
      "source": [
        "f = Foo()\n",
        "f.bar()\n"
      ],
      "execution_count": 0,
      "outputs": [
        {
          "output_type": "execute_result",
          "data": {
            "text/plain": [
              "{}"
            ]
          },
          "metadata": {
            "tags": []
          },
          "execution_count": 87
        }
      ]
    },
    {
      "cell_type": "markdown",
      "metadata": {
        "id": "3YFHof7DynBD",
        "colab_type": "text"
      },
      "source": [
        "## Constructor"
      ]
    },
    {
      "cell_type": "code",
      "metadata": {
        "id": "mNvb6tcvypFD",
        "colab_type": "code",
        "colab": {}
      },
      "source": [
        "class FooBar():\n",
        "  def func(self):\n",
        "    return 7\n",
        "  def __init__(self, x):\n",
        "    print(self.func())\n",
        "    self.y = 10\n",
        "    self.x = x\n",
        "    "
      ],
      "execution_count": 0,
      "outputs": []
    },
    {
      "cell_type": "code",
      "metadata": {
        "id": "SQbFj-LOyxLZ",
        "colab_type": "code",
        "outputId": "909166e2-78d9-4abe-f8b1-a620916782be",
        "colab": {
          "base_uri": "https://localhost:8080/",
          "height": 52
        }
      },
      "source": [
        "ff = FooBar(3)\n",
        "ff.x"
      ],
      "execution_count": 0,
      "outputs": [
        {
          "output_type": "stream",
          "text": [
            "7\n"
          ],
          "name": "stdout"
        },
        {
          "output_type": "execute_result",
          "data": {
            "text/plain": [
              "3"
            ]
          },
          "metadata": {
            "tags": []
          },
          "execution_count": 96
        }
      ]
    },
    {
      "cell_type": "markdown",
      "metadata": {
        "id": "fQhEoJu1tNRe",
        "colab_type": "text"
      },
      "source": [
        "## References"
      ]
    },
    {
      "cell_type": "markdown",
      "metadata": {
        "id": "u6BaXDS7tQTD",
        "colab_type": "text"
      },
      "source": [
        "*   [Pragmatic AI: An Introduction to Cloud-Based Machine Learning-Physical Book](http://www.informit.com/store/pragmatic-ai-an-introduction-to-cloud-based-machine-9780134863917)\n",
        "*   [Pragmatic AI: Pragmatic AI: An Introduction to Cloud-Based Machine Learning-SafariOnline Book](https://www.safaribooksonline.com/library/view/pragmatic-ai-an/9780134863924/)\n",
        "*  [Essential Machine Learning and AI with Python and Jupyter Notebook-Video-SafariOnline](https://www.safaribooksonline.com/videos/essential-machine-learning/9780135261118)\n",
        "* [Essential Machine Learning and AI with Python and Jupyter Notebook- Purchase Video](http://www.informit.com/store/essential-machine-learning-and-ai-with-python-and-jupyter-9780135261095)\n",
        "*   [noahgift.com](https://noahgift.com/)\n",
        "*   [paiml.com](https://paiml.com/)"
      ]
    },
    {
      "cell_type": "code",
      "metadata": {
        "id": "RlBGPRHznwmh",
        "colab_type": "code",
        "outputId": "04ec5ff7-2eb4-41de-84e3-2d8d037351c5",
        "colab": {
          "base_uri": "https://localhost:8080/",
          "height": 35
        }
      },
      "source": [
        "class Foo():pass\n",
        "\n",
        "f = Foo()\n",
        "\n",
        "for i in range(2):\n",
        "  f.i = 1\n",
        "  \n",
        "f.__dict__"
      ],
      "execution_count": 0,
      "outputs": [
        {
          "output_type": "execute_result",
          "data": {
            "text/plain": [
              "{'i': 1}"
            ]
          },
          "metadata": {
            "tags": []
          },
          "execution_count": 105
        }
      ]
    },
    {
      "cell_type": "code",
      "metadata": {
        "id": "HoHOkXbwogyv",
        "colab_type": "code",
        "colab": {}
      },
      "source": [
        "class A(object):\n",
        "    def __init__(self):\n",
        "        self.x = 'Hello'"
      ],
      "execution_count": 0,
      "outputs": []
    },
    {
      "cell_type": "code",
      "metadata": {
        "id": "GDS_S8OMpEzJ",
        "colab_type": "code",
        "colab": {}
      },
      "source": [
        "class Neighbourhood():\n",
        "  def __init__(self, number, street, city):\n",
        "    self.number = number\n",
        "    self.street = street\n",
        "    self.city = city"
      ],
      "execution_count": 0,
      "outputs": []
    },
    {
      "cell_type": "code",
      "metadata": {
        "id": "RQTLqSDnpNKY",
        "colab_type": "code",
        "outputId": "1a8fcb59-ce97-4630-e10e-02712e47aaec",
        "colab": {
          "base_uri": "https://localhost:8080/",
          "height": 35
        }
      },
      "source": [
        "n = Neighbourhood(345, \"mystreet\", \"san francisco\")\n",
        "n.city\n",
        "n.number\n",
        "n.__dict__"
      ],
      "execution_count": 0,
      "outputs": [
        {
          "output_type": "execute_result",
          "data": {
            "text/plain": [
              "{'city': 'san francisco', 'number': 345, 'street': 'mystreet'}"
            ]
          },
          "metadata": {
            "tags": []
          },
          "execution_count": 114
        }
      ]
    },
    {
      "cell_type": "code",
      "metadata": {
        "id": "7jtTQ3LhpUK6",
        "colab_type": "code",
        "colab": {}
      },
      "source": [
        "import json\n"
      ],
      "execution_count": 0,
      "outputs": []
    },
    {
      "cell_type": "code",
      "metadata": {
        "id": "ZYNoOkMwpqoU",
        "colab_type": "code",
        "colab": {}
      },
      "source": [
        "mydict=json.loads(\"\")\n",
        "import pandas as pd\n",
        "pd.to_csv(mydict)\n",
        "\n",
        "\n"
      ],
      "execution_count": 0,
      "outputs": []
    }
  ]
}